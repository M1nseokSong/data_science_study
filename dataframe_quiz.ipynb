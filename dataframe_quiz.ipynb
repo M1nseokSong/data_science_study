{
  "nbformat": 4,
  "nbformat_minor": 0,
  "metadata": {
    "colab": {
      "name": "dataframe_quiz.ipynb",
      "provenance": [],
      "authorship_tag": "ABX9TyNpSV/smF2vH/zNxiKIQQRu",
      "include_colab_link": true
    },
    "kernelspec": {
      "name": "python3",
      "display_name": "Python 3"
    },
    "language_info": {
      "name": "python"
    }
  },
  "cells": [
    {
      "cell_type": "markdown",
      "metadata": {
        "id": "view-in-github",
        "colab_type": "text"
      },
      "source": [
        "<a href=\"https://colab.research.google.com/github/M1nseokSong/data_science_study/blob/main/dataframe_quiz.ipynb\" target=\"_parent\"><img src=\"https://colab.research.google.com/assets/colab-badge.svg\" alt=\"Open In Colab\"/></a>"
      ]
    },
    {
      "cell_type": "markdown",
      "source": [
        "1. “information technology” 과목은 심화과목이라 1학년은 수강할 수 없습니다.\n",
        "\n",
        "2. “commerce” 과목은 기초과목이고 많은 학생들이 듣는 수업이라 4학년은 수강할 수 없습니다.\n",
        "3. 수강생이 5명이 되지 않으면 강의는 폐강되어 수강할 수 없습니다."
      ],
      "metadata": {
        "id": "N9I3yrvYVzqh"
      }
    },
    {
      "cell_type": "code",
      "execution_count": 3,
      "metadata": {
        "colab": {
          "base_uri": "https://localhost:8080/"
        },
        "id": "w7JsDjCZRZ3a",
        "outputId": "8d6c76bc-da4f-4b2b-e9b3-eb3d996cf840"
      },
      "outputs": [
        {
          "output_type": "stream",
          "name": "stdout",
          "text": [
            "           id  year           course name   status\n",
            "0     2777729     1               science  allowed\n",
            "1     2777730     2               science  allowed\n",
            "2     2777765     1                  arts  allowed\n",
            "3     2777766     2                  arts  allowed\n",
            "4     2777785     1                   mba  allowed\n",
            "...       ...   ...                   ...      ...\n",
            "1995  2796805     3  computer application  allowed\n",
            "1996  2796812     1               nursing  allowed\n",
            "1997  2796813     2               nursing  allowed\n",
            "1998  2796814     3               nursing  allowed\n",
            "1999  2796815     4               nursing  allowed\n",
            "\n",
            "[2000 rows x 4 columns]\n"
          ]
        }
      ],
      "source": [
        "import pandas as pd\n",
        "\n",
        "df = pd.read_csv('enrolment_1.csv')\n",
        "\n",
        "df[\"status\"] = \"allowed\"\n",
        "\n",
        "info_condition = (df['year'] == 1) & (df['course name'] == \"information technology\")\n",
        "com_condition = (df['year'] == 4) & (df['course name'] == \"commerce\")\n",
        "allowed = df[\"status\"] == \"allowed\"\n",
        "course_counts = df.loc[allowed, \"course name\"].value_counts()\n",
        "close_courses = list(course_counts[course_counts<5].index)\n",
        "\n",
        "for course in close_courses:\n",
        "    df.loc[df[\"course name\"] == course, \"status\"] = \"not allowed\"\n",
        "\n",
        "df.loc[info_condition, 'status'] = \"not allowed\"\n",
        "df.loc[com_condition, 'status'] = \"not allowed\"\n",
        "\n",
        "df"
      ]
    }
  ]
}