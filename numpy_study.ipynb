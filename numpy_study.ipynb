{
  "nbformat": 4,
  "nbformat_minor": 0,
  "metadata": {
    "colab": {
      "name": "numpy study.ipynb",
      "provenance": [],
      "authorship_tag": "ABX9TyO8exxU81FhMq+m+UA1u4tC",
      "include_colab_link": true
    },
    "kernelspec": {
      "name": "python3",
      "display_name": "Python 3"
    },
    "language_info": {
      "name": "python"
    }
  },
  "cells": [
    {
      "cell_type": "markdown",
      "metadata": {
        "id": "view-in-github",
        "colab_type": "text"
      },
      "source": [
        "<a href=\"https://colab.research.google.com/github/M1nseokSong/data_science_study/blob/main/numpy_study.ipynb\" target=\"_parent\"><img src=\"https://colab.research.google.com/assets/colab-badge.svg\" alt=\"Open In Colab\"/></a>"
      ]
    },
    {
      "cell_type": "code",
      "execution_count": 2,
      "metadata": {
        "colab": {
          "base_uri": "https://localhost:8080/"
        },
        "id": "adqPj4rAKQlb",
        "outputId": "d9535c61-fb45-4968-eddc-91c3ef4e3b6a"
      },
      "outputs": [
        {
          "output_type": "stream",
          "name": "stdout",
          "text": [
            "[False False False False  True  True  True  True  True]\n",
            "[5 6 7 8 9]\n",
            "(array([4, 5, 6, 7, 8]),)\n",
            "[5 6 7 8 9]\n",
            "9\n",
            "5.0\n",
            "5.0\n",
            "2.581988897471611\n",
            "6.666666666666667\n"
          ]
        }
      ],
      "source": [
        "import numpy as np\n",
        "\n",
        "array1 = np.array([1,2,3,4,5,6,7,8,9])\n",
        "print(array1>4)\n",
        "print(array1[array1>4])\n",
        "print(np.where(array1>4))\n",
        "print(array1[np.where(array1>4)])\n",
        "print(array1.max())\n",
        "print(array1.mean())\n",
        "print(np.median(array1))\n",
        "print(array1.std())\n",
        "print(array1.var())\n",
        "\n"
      ]
    },
    {
      "cell_type": "code",
      "source": [
        "array2 = np.full(6,7)\n",
        "array3 = np.zeros(6, dtype=int)\n",
        "array4 = np.ones(6, dtype=int)\n",
        "array5 = np.random.random(6)\n",
        "array6 = np.arange(6)\n",
        "array7 = np.arange(2, 7)\n",
        "array8 = np.arange(3, 17, 3)\n",
        "\n",
        "array1, array2, array3, array4, array5, array6, array7, array8"
      ],
      "metadata": {
        "colab": {
          "base_uri": "https://localhost:8080/"
        },
        "id": "dyDYEYZlKXuJ",
        "outputId": "0a30e927-9586-4854-a168-29d8e7728c4a"
      },
      "execution_count": 4,
      "outputs": [
        {
          "output_type": "execute_result",
          "data": {
            "text/plain": [
              "(array([1, 2, 3, 4, 5, 6, 7, 8, 9]),\n",
              " array([7, 7, 7, 7, 7, 7]),\n",
              " array([0, 0, 0, 0, 0, 0]),\n",
              " array([1, 1, 1, 1, 1, 1]),\n",
              " array([0.1742508 , 0.73307754, 0.52750538, 0.41349924, 0.01441168,\n",
              "        0.45973835]),\n",
              " array([0, 1, 2, 3, 4, 5]),\n",
              " array([2, 3, 4, 5, 6]),\n",
              " array([ 3,  6,  9, 12, 15]))"
            ]
          },
          "metadata": {},
          "execution_count": 4
        }
      ]
    }
  ]
}